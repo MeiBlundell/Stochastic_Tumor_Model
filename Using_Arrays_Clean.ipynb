{
 "cells": [
  {
   "cell_type": "code",
   "execution_count": 1,
   "metadata": {},
   "outputs": [],
   "source": [
    "import numpy as np\n",
    "import random\n",
    "#import itertools as it\n",
    "import time\n",
    "import matplotlib.pyplot as plt"
   ]
  },
  {
   "cell_type": "code",
   "execution_count": 2,
   "metadata": {},
   "outputs": [],
   "source": [
    "# Function for returning the state and index in list of neighbors of an empty cell.\n",
    "def choose_neighbor(neighborhood, cell_coord): \n",
    "        i = cell_coord[0]\n",
    "        j = cell_coord[1]\n",
    "        k = cell_coord[2]\n",
    "        \n",
    "        neighbor_i = None\n",
    "        neighbor_j = None\n",
    "        neighbor_k = None\n",
    "        \n",
    "        possible_neighbor_coords = [[n_i,n_j,n_k] for n_i in [i+1,i-1,i] \n",
    "                                    for n_j in [j+1,j-1,j] for n_k in [k+1,k-1,k]]\n",
    "        possible_neighbor_coords.remove(cell_coord)\n",
    "        random.shuffle(possible_neighbor_coords)\n",
    "        for n_coord in possible_neighbor_coords:\n",
    "            n_i = n_coord[0]\n",
    "            n_j = n_coord[1]\n",
    "            n_k = n_coord[2]\n",
    "            \n",
    "            if neighborhood[n_i,n_j,n_k] == EMPTY:# and n_coord != cell_coord:\n",
    "                neighbor_i = n_i\n",
    "                neighbor_j = n_j\n",
    "                neighbor_k = n_k\n",
    "        \n",
    "        return neighbor_i, neighbor_j, neighbor_k\n",
    "\n",
    "def get_empty_neighbor(neighbors): \n",
    "        idx = 10**4\n",
    "        idxs = list(range(len(neighbors)))\n",
    "        random.shuffle(idxs)\n",
    "\n",
    "        for i in idxs:\n",
    "            if neighbors[i] == EMPTY:\n",
    "                idx = i\n",
    "                break\n",
    "                \n",
    "        return idx\n",
    "\n"
   ]
  },
  {
   "cell_type": "code",
   "execution_count": 3,
   "metadata": {},
   "outputs": [],
   "source": [
    "# These should return new_neighbor_state and new_cell_state\n",
    "\n",
    "def die(last_cell_state, P_die):\n",
    "    if last_cell_state != (DEAD or EMPTY or CSC):\n",
    "        rand = random.random()\n",
    "        if rand <= P_die:\n",
    "            new_cell_state = DEAD\n",
    "        else:\n",
    "            new_cell_state = last_cell_state\n",
    "        return new_cell_state\n",
    "        \n",
    "def divide(last_cell_state, P_divide, P_asym):\n",
    "    rand = random.random()\n",
    "    if rand <= P_divide and last_cell_state != (DEAD or EMPTY):\n",
    "        if last_cell_state == CSC:\n",
    "            rand = random.random()\n",
    "            if rand <= P_asym: # asymmetric cell division\n",
    "                new_neighbor_state = nCSC_10\n",
    "                new_cell_state = CSC\n",
    "            else: # symmetric cell division\n",
    "                new_neighbor_state = CSC\n",
    "                new_cell_state = CSC\n",
    "    \n",
    "        else: # non-CSCs must division symmetrically\n",
    "            new_neighbor_state = nCSC_10\n",
    "            new_cell_state = last_cell_state - 1 # decrease the proliferative potential down to 1.    \n",
    "        return new_cell_state, new_neighbor_state\n",
    "    else:\n",
    "        return False, False\n",
    "    \n",
    "def migrate(last_cell_state, P_migrate):\n",
    "    rand = random.random()\n",
    "    if rand <= P_migrate and last_cell_state != (DEAD or EMPTY):\n",
    "        new_neighbor_state = last_cell_state\n",
    "        new_cell_state = EMPTY\n",
    "    else:\n",
    "        new_cell_state = last_cell_state\n",
    "        new_neighbor_state = EMPTY\n",
    "    return new_cell_state, new_neighbor_state"
   ]
  },
  {
   "cell_type": "code",
   "execution_count": 4,
   "metadata": {},
   "outputs": [],
   "source": [
    "# Function for the actions of one cell, \n",
    "# returns new state of the cell and the new state of a neighbor    \n",
    "# last_cell_state is either CSC or nonCSC\n",
    "def evolve_cell(last_cell_state, coord, P_die, P_divide, P_asym, P_migrate):\n",
    "    new_cell_state = last_cell_state\n",
    "    new_neighbor_state = EMPTY\n",
    "    \n",
    "    # Apoptosis\n",
    "    if last_cell_state != CSC:\n",
    "        new_cell_state = die(last_cell_state, P_die)\n",
    "        #rand = random.random()\n",
    "        #if last_cell_state != CSC and rand <= P_die:\n",
    "         #   new_cell_state = DEAD\n",
    "            \n",
    "    if new_cell_state == last_cell_state:            \n",
    "        # choose neighbor\n",
    "        neighbor_i, neighbor_j, neighbor_k = choose_neighbor(neighborhood, coord)\n",
    "        if neighbor_i != None:\n",
    "            # Migration or Division   \n",
    "            new_cell_state, new_neighbor_state = divide(last_cell_state, P_divide, P_asym)\n",
    "            if (new_cell_state, new_neighbor_state) == (False,False):\n",
    "                new_cell_state, new_neighbor_state = migrate(last_cell_state, P_migrate)\n",
    "                \n",
    "        # Update neighbor    \n",
    "        neighborhood[neighbor_i, neighbor_j, neighbor_k] = new_neighbor_state \n",
    "            \n",
    "    # Update cell\n",
    "    i = coord[0]\n",
    "    j = coord[1]\n",
    "    k = coord[2]\n",
    "    neighborhood[i,j,k] = new_cell_state\n",
    "            \n",
    "    return neighborhood#new_cell_state, new_neighbor_state   "
   ]
  },
  {
   "cell_type": "code",
   "execution_count": 5,
   "metadata": {},
   "outputs": [],
   "source": [
    "# Function for one interation of updating through all cells\n",
    "# Returns updated neighborhood\n",
    "\n",
    "def update_step_rand_ordering(neighborhood, size_h, size_w, size_d):\n",
    "    # Loop through each cell in random order and find its neighbors\n",
    "    #coords = list(it.product(range(size),repeat=3))\n",
    "    coords = [[i,j,k] for i in range(size_h) for j in range(size_w) for k in range(size_d)]\n",
    "    random.shuffle(coords)\n",
    "    for coord in coords:\n",
    "        i = coord[0]\n",
    "        j = coord[1]\n",
    "        k = coord[2]\n",
    "        cell = neighborhood[i,j,k]\n",
    "        if (i<=size_h-2 and j<=size_w-2 and k<=size_d-2) and cell!=EMPTY:\n",
    "                        \n",
    "            # Pick an empty neighbor\n",
    "            #idx_in_neighbors = get_empty_neighbor(neighbors)\n",
    "            #if idx_in_neighbors != 10**4:\n",
    "                #print('found empty neighbor')\n",
    "            #neighbor_i, neighbor_j, neighbor_k = choose_neighbor(neighborhood, coord)\n",
    "            #if neighbor_i != 10**10:\n",
    "                \n",
    "            # Clear dead cell\n",
    "            if cell == DEAD:\n",
    "                neighborhood[i,j,k] = EMPTY\n",
    "                \n",
    "            # Evolve cell\n",
    "            if cell != DEAD and cell != EMPTY:\n",
    "                neighborhood = evolve_cell(cell, coord, P_die, P_divide, P_asym, P_migrate)\n",
    "        \n",
    "    return neighborhood"
   ]
  },
  {
   "cell_type": "code",
   "execution_count": 6,
   "metadata": {},
   "outputs": [],
   "source": [
    "# Function for expanding the neighborhood\n",
    "def expand_neighborhood(neighborhood, size_h, size_w, size_d, delta_size):\n",
    "    # Surfaces\n",
    "    left = neighborhood[:,0,:] \n",
    "    front = neighborhood[:,:,0]\n",
    "    top = neighborhood[0,:,:]\n",
    "    right = neighborhood[:,-1,:]\n",
    "    back = neighborhood[:,:,-1]\n",
    "    bottom = neighborhood[-1,:,:]\n",
    "        \n",
    "    #if left.any()!=EMPTY or front.any()!=EMPTY or top.any()!=EMPTY or right.any()!=EMPTY or back.any()!=EMPTY or bottom.any()!=EMPTY:\n",
    "     #   size += delta_size\n",
    "      #  neighborhood.resize((size,size,size), refcheck=False)\n",
    "       # print(f'new size: {size}')\n",
    "        \n",
    "    if left.any()!=EMPTY:\n",
    "        size_w += delta_size\n",
    "        neighborhood = np.concatenate([np.zeros((size_h, delta_size, size_d)), neighborhood], axis=1)\n",
    "        #print(f'new size: ({size_h,size_w,size_d})')\n",
    "    \n",
    "    if front.any()!=EMPTY:\n",
    "        size_d += delta_size\n",
    "        neighborhood = np.concatenate([np.zeros((size_h, size_w, delta_size)), neighborhood], axis=2)\n",
    "        #print(f'new size: ({size_h,size_w,size_d})')\n",
    "        \n",
    "    if top.any()!=EMPTY:\n",
    "        size_h += delta_size\n",
    "        neighborhood = np.concatenate([np.zeros((delta_size, size_w, size_d)), neighborhood], axis=0)\n",
    "        #print(f'new size: ({size_h,size_w,size_d})')\n",
    "        \n",
    "    if right.any()!=EMPTY:\n",
    "        size_w += delta_size\n",
    "        neighborhood = np.concatenate([neighborhood, np.zeros((size_h, delta_size, size_d))], axis=1)\n",
    "        #print(f'new size: ({size_h,size_w,size_d})')\n",
    "        \n",
    "    if back.any()!=EMPTY:\n",
    "        size_d += delta_size\n",
    "        neighborhood = np.concatenate([neighborhood, np.zeros((size_h, size_w, delta_size))], axis=2)\n",
    "        #print(f'new size: ({size_h,size_w,size_d})')\n",
    "        \n",
    "    if bottom.any()!=EMPTY:\n",
    "        size_h += delta_size\n",
    "        neighborhood = np.concatenate([neighborhood, np.zeros((delta_size, size_w, size_d))], axis=0)\n",
    "        #print(f'new size: ({size_h,size_w,size_d})')\n",
    "    \n",
    "    print(f'new size: ({size_h,size_w,size_d})')\n",
    "    return neighborhood, size_h, size_w, size_d"
   ]
  },
  {
   "cell_type": "code",
   "execution_count": null,
   "metadata": {},
   "outputs": [],
   "source": [
    "# States and Parameters\n",
    "CSC = 12 #11\n",
    "nCSC_10 = 11 #10\n",
    "nCSC_9 = 10\n",
    "nCSC_8 = 9\n",
    "nCSC_7 = 8\n",
    "nCSC_6 = 7\n",
    "nCSC_5 = 6\n",
    "nCSC_4 = 5\n",
    "nCSC_3 = 4\n",
    "nCSC_2 = 3\n",
    "nCSC_1 = 2\n",
    "DEAD = 1 #0\n",
    "EMPTY = 0 #12\n",
    "\n",
    "P_die = 0.01\n",
    "P_divide = 1/24 # 1 cell cycle in 24 hours (steps)\n",
    "P_migrate = (1-P_divide)*10/24 # 10 spaces in 24 hours (steps)\n",
    "P_asym = 0.9 # probability of asymmetric cell division for cancer stem cells\n",
    "size_h = 10 # height\n",
    "size_w = 10 # width\n",
    "size_d = 10 # depth\n",
    "steps = 1000 # hours\n",
    "delta_size = 5 # amount to add to growing array\n",
    "check_surface_interval = 50 # amount of steps to wait before growing array, 50?\n",
    "reporting_interval = 100\n",
    "\n",
    "# Set up the neighborhood\n",
    "neighborhood = np.full((size_h,size_w,size_d), EMPTY)\n",
    "neighborhood[(int(size_h/2),int(size_w/2),int(size_d/2))] = CSC\n",
    "\n",
    "num_CSC = [sum(np.ravel(neighborhood) == CSC)]\n",
    "num_DEAD = [sum(np.ravel(neighborhood) == DEAD)]\n",
    "num_EMPTY = [sum(np.ravel(neighborhood) == EMPTY)]\n",
    "num_nCSC = [(size_h*size_w*size_d) - num_CSC[0] - num_DEAD[0] - num_EMPTY[0]]\n",
    "num_total = num_CSC + num_nCSC + num_DEAD + num_EMPTY\n",
    "num_nEMPTY = num_CSC + num_nCSC + num_DEAD\n",
    "\n",
    "tic = time.perf_counter() \n",
    "for i in range(steps):\n",
    "    # Update\n",
    "    neighborhood = update_step_rand_ordering(neighborhood, size_h, size_w, size_d)\n",
    "    new_CSC = sum(neighborhood.reshape(-1) == CSC)\n",
    "    new_DEAD = sum(neighborhood.reshape(-1) == DEAD)\n",
    "    new_EMPTY = sum(neighborhood.reshape(-1) == EMPTY)\n",
    "    new_nCSC = (size_h*size_w*size_d) - new_CSC - new_DEAD - new_EMPTY\n",
    "    num_CSC.append(new_CSC)\n",
    "    num_DEAD.append(new_DEAD)\n",
    "    num_EMPTY.append(new_EMPTY)\n",
    "    num_nCSC.append(new_nCSC)\n",
    "    num_nEMPTY.append(new_CSC + new_DEAD + new_nCSC)\n",
    "    num_total.append(new_CSC + new_DEAD + new_EMPTY + new_nCSC)\n",
    "    \n",
    "    # Report\n",
    "    if i!=0 and i%reporting_interval == 0:\n",
    "        print(f'Completed {i}th step')\n",
    "        print(f'Cancer Stem Cells: {new_CSC}, Dead Cells: {new_DEAD}, Empty Cells: {new_EMPTY}, Cancer Non-Stem Cells: {new_nCSC}')\n",
    "        \n",
    "    # Expand if needed\n",
    "    if i!=0 and i%check_surface_interval == 0:\n",
    "        neighborhood, size_h, size_w, size_d = expand_neighborhood(neighborhood, size_h, size_w, size_d, delta_size)\n",
    "toc = time.perf_counter() \n",
    "print(f'Time to finish {steps} steps: {toc-tic}')\n",
    "\n",
    "final_CSC = sum(neighborhood.reshape(-1) == CSC)\n",
    "final_DEAD = sum(neighborhood.reshape(-1) == DEAD)\n",
    "final_EMPTY = sum(neighborhood.reshape(-1) == EMPTY)\n",
    "final_nCSC = (size_h*size_w*size_d) - final_CSC - final_DEAD - final_EMPTY\n",
    "\n",
    "print(f'Final Cancer Stem Cells: {final_CSC}, Final Dead Cells: {final_DEAD}, Final Empty Cells: {final_EMPTY}, Final Cancer Non-Stem Cells: {final_nCSC}')\n",
    "\n"
   ]
  },
  {
   "cell_type": "code",
   "execution_count": null,
   "metadata": {},
   "outputs": [],
   "source": [
    "np.save('neighborhood_arrays_1000_8.npy', neighborhood)\n",
    "np.save('CSC_counts_arrays_1000_8.npy', num_CSC)\n",
    "np.save('nCSC_counts_arrays_1000_8.npy', num_nCSC)\n",
    "np.save('DEAD_counts_arrays_1000_8.npy', num_DEAD)\n",
    "np.save('EMPTY_counts_arrays_1000_8.npy', num_EMPTY)\n",
    "np.save('Total_counts_arrays_1000_8.npy', num_total)\n",
    "np.save('nEMPTY_counts_arrays_1000_8.npy', num_nEMPTY)"
   ]
  },
  {
   "cell_type": "code",
   "execution_count": null,
   "metadata": {},
   "outputs": [],
   "source": [
    "# plot populations\n",
    "fig = plt.figure(figsize=(8, 5))\n",
    "plt.plot(num_nCSC, c='b', label='Cancer Non-Stem Cell')\n",
    "plt.plot(num_CSC, c='r', label='Cancer Stem Cell')\n",
    "plt.plot(num_DEAD, c='k', label='Dead Cell')\n",
    "plt.legend()\n",
    "plt.title('Array: Cell Populations')\n",
    "plt.xlabel('Time (steps)')\n",
    "plt.ylabel('Number of Cells')\n",
    "plt.savefig('array_sim_8.jpg')\n",
    "    \n",
    "fig = plt.figure(figsize=(8, 5))\n",
    "plt.plot(num_CSC, c='r', label='Cancer Stem Cell')\n",
    "plt.plot(num_DEAD, c='k', label='Dead Cell')\n",
    "plt.legend()\n",
    "plt.title('Array: Stem Cells and Dead Cells')\n",
    "plt.xlabel('Time (steps)')\n",
    "plt.ylabel('Number of Cells')\n",
    "plt.savefig('array_sim_8_justCSCDEAD.jpg')\n",
    "    \n",
    "fig = plt.figure(figsize=(8, 5))\n",
    "plt.plot(num_total, c='r', label='All Cells (including EMPTY)')\n",
    "plt.plot(num_EMPTY, c='b', label='Empty Cells')\n",
    "plt.plot(num_nEMPTY, c='k', label='Occupied Cells')\n",
    "plt.plot([1/j for i,j in zip(num_nEMPTY,num_total)] , c='g', label='Proportion of Occupied/Total')\n",
    "plt.legend()\n",
    "plt.title('Array: Filling of Allocated Spaces')\n",
    "plt.xlabel('Time (steps)')\n",
    "plt.ylabel('Number of Cells')\n",
    "plt.savefig('array_sim_8_fullpop.jpg')"
   ]
  },
  {
   "cell_type": "code",
   "execution_count": 7,
   "metadata": {},
   "outputs": [],
   "source": [
    "num_CSC = np.load('CSC_counts_arrays_300_6.npy')\n",
    "num_nCSC = np.load('nCSC_counts_arrays_300_6.npy')\n",
    "num_DEAD = np.load('DEAD_counts_arrays_300_6.npy')\n",
    "num_Occ = np.load('nEMPTY_counts_arrays_300_6.npy')"
   ]
  },
  {
   "cell_type": "code",
   "execution_count": 16,
   "metadata": {},
   "outputs": [
    {
     "name": "stdout",
     "output_type": "stream",
     "text": [
      "(253,)\n",
      "(253,)\n",
      "250\n",
      "0.028899013623071883\n"
     ]
    }
   ],
   "source": [
    "print(num_Occ.shape)\n",
    "print(log_Occ.shape)\n",
    "print(len(range(250)))\n",
    "print(log_nCSC[-1]/250)"
   ]
  },
  {
   "cell_type": "code",
   "execution_count": 20,
   "metadata": {},
   "outputs": [
    {
     "name": "stderr",
     "output_type": "stream",
     "text": [
      "C:\\Users\\mzb56\\Anaconda3\\lib\\site-packages\\ipykernel_launcher.py:2: RuntimeWarning: divide by zero encountered in log\n",
      "  \n",
      "C:\\Users\\mzb56\\Anaconda3\\lib\\site-packages\\ipykernel_launcher.py:3: RuntimeWarning: divide by zero encountered in log\n",
      "  This is separate from the ipykernel package so we can avoid doing imports until\n",
      "C:\\Users\\mzb56\\Anaconda3\\lib\\site-packages\\ipykernel_launcher.py:4: RuntimeWarning: divide by zero encountered in log\n",
      "  after removing the cwd from sys.path.\n"
     ]
    },
    {
     "data": {
      "image/png": "[encoded data removed]",
      "text/plain": [
       "<Figure size 576x360 with 1 Axes>"
      ]
     },
     "metadata": {
      "needs_background": "light"
     },
     "output_type": "display_data"
    }
   ],
   "source": [
    "log_CSC = np.log(num_CSC)\n",
    "log_nCSC = np.log(num_nCSC)\n",
    "log_DEAD = np.log(num_DEAD)\n",
    "log_Occ = np.log(num_Occ)\n",
    "\n",
    "x = range(251)\n",
    "# y = the logs\n",
    "slope_CSC = (log_CSC[-1])/250\n",
    "intercept_CSC = 0\n",
    "#slope_nCSC = (log_nCSC[-1])/250\n",
    "#intercept_nCSC = 0\n",
    "slope_DEAD = (log_DEAD[-1]/250)\n",
    "intercept_DEAD = 0\n",
    "#slope_Occ = (log_Occ[-1]/250)\n",
    "#intercept_Occ = 0\n",
    "\n",
    "#slope_CSC, intercept_CSC = np.polyfit(x, log_CSC, 1)\n",
    "slope_nCSC, intercept_nCSC = np.polyfit(x[125:], log_nCSC[125:], 1)\n",
    "slope_DEAD, intercept_DEAD = np.polyfit(x[200:], log_DEAD[200:], 1)\n",
    "slope_Occ, intercept_Occ = np.polyfit(range(253)[125:], log_Occ[125:], 1)\n",
    "\n",
    "fig = plt.figure(figsize=(8, 5))\n",
    "# plot the logs\n",
    "plt.plot(log_nCSC, c='b', label=f'Cancer Non-Stem Cell, r={slope_nCSC}')\n",
    "plt.plot(log_CSC, c='r', label=f'Cancer Stem Cell, r={slope_CSC}')\n",
    "plt.plot(log_DEAD, c='k', label=f'Dead Cell, r={slope_DEAD}')\n",
    "plt.plot(log_Occ, c='g', label=f'All Non-empty Cells, r={slope_Occ}')\n",
    "\n",
    "# plot the lines\n",
    "plt.plot(x, slope_nCSC*x + intercept_nCSC, c='b')\n",
    "plt.plot(x, slope_CSC*x + intercept_CSC, c='r')\n",
    "plt.plot(x, slope_DEAD*x + intercept_DEAD, c='k')\n",
    "plt.plot(x, slope_Occ*x + intercept_Occ, c='g')\n",
    "    \n",
    "plt.legend()\n",
    "plt.title('Array: Growth in Cell Populations')\n",
    "plt.xlabel('Time (steps)')\n",
    "plt.ylabel('log(Number of Cells)')\n",
    "plt.savefig('array_log_4.jpg')"
   ]
  },
  {
   "cell_type": "code",
   "execution_count": 9,
   "metadata": {},
   "outputs": [
    {
     "data": {
      "text/plain": [
       "28"
      ]
     },
     "execution_count": 9,
     "metadata": {},
     "output_type": "execute_result"
    }
   ],
   "source": [
    "import sys\n",
    "sys.getsizeof(True)"
   ]
  },
  {
   "cell_type": "code",
   "execution_count": 8,
   "metadata": {},
   "outputs": [
    {
     "data": {
      "text/plain": [
       "50"
      ]
     },
     "execution_count": 8,
     "metadata": {},
     "output_type": "execute_result"
    }
   ],
   "source": [
    "sys.getsizeof('c')"
   ]
  },
  {
   "cell_type": "code",
   "execution_count": 12,
   "metadata": {},
   "outputs": [
    {
     "data": {
      "text/plain": [
       "24"
      ]
     },
     "execution_count": 12,
     "metadata": {},
     "output_type": "execute_result"
    }
   ],
   "source": [
    "sys.getsizeof(0)"
   ]
  },
  {
   "cell_type": "code",
   "execution_count": 2,
   "metadata": {},
   "outputs": [
    {
     "name": "stdout",
     "output_type": "stream",
     "text": [
      "ravel: 0.00038819999999972765\n",
      "flatten: 0.03346859999999907\n",
      "reshape: 0.00031729999999896563\n"
     ]
    }
   ],
   "source": [
    "a = np.zeros((100,100,100))\n",
    "\n",
    "tic = time.perf_counter() \n",
    "np.ravel(a)\n",
    "toc = time.perf_counter() \n",
    "print(f'ravel: {toc-tic}')\n",
    "\n",
    "tic = time.perf_counter() \n",
    "a.flatten()\n",
    "toc = time.perf_counter()\n",
    "print(f'flatten: {toc-tic}')\n",
    "\n",
    "tic = time.perf_counter() \n",
    "a.reshape(-1)\n",
    "toc = time.perf_counter()\n",
    "print(f'reshape: {toc-tic}')"
   ]
  },
  {
   "cell_type": "code",
   "execution_count": 6,
   "metadata": {},
   "outputs": [
    {
     "name": "stdout",
     "output_type": "stream",
     "text": [
      "it.product: 6.405409999999961\n",
      "nested fors: 5.980575699999974\n"
     ]
    }
   ],
   "source": [
    "i = 0\n",
    "j = 0\n",
    "k = 0\n",
    "\n",
    "tic = time.perf_counter()\n",
    "coords = list(it.product(range(100),repeat=3))\n",
    "random.shuffle(coords)\n",
    "for coord in coords:\n",
    "    i = coord[0]\n",
    "    j = coord[1]\n",
    "    k = coord[2]\n",
    "toc = time.perf_counter()\n",
    "print(f'it.product: {toc-tic}')\n",
    "\n",
    "tic = time.perf_counter()\n",
    "coords = [(i,j,k) for i in range(100) for j in range(100) for k in range(100)]\n",
    "random.shuffle(coords)\n",
    "for coord in coords:\n",
    "    i = coord[0]\n",
    "    j = coord[1]\n",
    "    k = coord[2]\n",
    "toc = time.perf_counter()\n",
    "print(f'nested fors: {toc-tic}')\n",
    "\n",
    "#consider using nested fors..."
   ]
  },
  {
   "cell_type": "code",
   "execution_count": 7,
   "metadata": {},
   "outputs": [
    {
     "name": "stdout",
     "output_type": "stream",
     "text": [
      "it.product: 0.44317329999995536\n",
      "nested fors: 0.013997900000049412\n"
     ]
    }
   ],
   "source": [
    "i = 0\n",
    "j = 0\n",
    "k = 0\n",
    "\n",
    "tic = time.perf_counter()\n",
    "coords = list(it.product(range(10),repeat=3))\n",
    "random.shuffle(coords)\n",
    "for coord in coords:\n",
    "    i = coord[0]\n",
    "    j = coord[1]\n",
    "    k = coord[2]\n",
    "toc = time.perf_counter()\n",
    "print(f'it.product: {toc-tic}')\n",
    "\n",
    "tic = time.perf_counter()\n",
    "coords = [(i,j,k) for i in range(10) for j in range(10) for k in range(10)]\n",
    "random.shuffle(coords)\n",
    "for coord in coords:\n",
    "    i = coord[0]\n",
    "    j = coord[1]\n",
    "    k = coord[2]\n",
    "toc = time.perf_counter()\n",
    "print(f'nested fors: {toc-tic}')"
   ]
  },
  {
   "cell_type": "code",
   "execution_count": 18,
   "metadata": {},
   "outputs": [],
   "source": [
    "b = np.zeros((3,3,3))"
   ]
  },
  {
   "cell_type": "code",
   "execution_count": 19,
   "metadata": {},
   "outputs": [
    {
     "name": "stdout",
     "output_type": "stream",
     "text": [
      "concatenate: 0.00032349999992220546\n",
      "stack: 0.00032659999988027266\n"
     ]
    }
   ],
   "source": [
    "tic = time.perf_counter()\n",
    "a = np.concatenate([b,np.ones((3,3,3))], axis=0)\n",
    "toc = time.perf_counter()\n",
    "print(f'concatenate: {toc-tic}')\n",
    "\n",
    "tic = time.perf_counter()\n",
    "a = np.vstack([b,np.ones((3,3,3))])\n",
    "toc = time.perf_counter()\n",
    "print(f'stack: {toc-tic}')"
   ]
  },
  {
   "cell_type": "code",
   "execution_count": 16,
   "metadata": {},
   "outputs": [
    {
     "data": {
      "text/plain": [
       "(3, 6, 3)"
      ]
     },
     "execution_count": 16,
     "metadata": {},
     "output_type": "execute_result"
    }
   ],
   "source": [
    "a.shape"
   ]
  },
  {
   "cell_type": "code",
   "execution_count": 20,
   "metadata": {},
   "outputs": [
    {
     "data": {
      "text/plain": [
       "(6, 3, 3)"
      ]
     },
     "execution_count": 20,
     "metadata": {},
     "output_type": "execute_result"
    }
   ],
   "source": [
    "b = np.zeros((3,3,3))\n",
    "a = np.concatenate([b,np.ones((3,3,3))], axis=0)\n",
    "a.shape"
   ]
  },
  {
   "cell_type": "code",
   "execution_count": 8,
   "metadata": {},
   "outputs": [
    {
     "name": "stdout",
     "output_type": "stream",
     "text": [
      "not one\n",
      "checking surface: 0.0027239000000918168\n"
     ]
    }
   ],
   "source": [
    "# cost of checking\n",
    "a=np.zeros((3,3,3))\n",
    "tic = time.perf_counter()\n",
    "left = a[:,0,:] \n",
    "if left.any()!=1:\n",
    "    print('not one')\n",
    "toc = time.perf_counter()\n",
    "print(f'checking surface: {toc-tic}')"
   ]
  },
  {
   "cell_type": "code",
   "execution_count": null,
   "metadata": {},
   "outputs": [],
   "source": []
  }
 ],
 "metadata": {
  "kernelspec": {
   "display_name": "Python 3",
   "language": "python",
   "name": "python3"
  },
  "language_info": {
   "codemirror_mode": {
    "name": "ipython",
    "version": 3
   },
   "file_extension": ".py",
   "mimetype": "text/x-python",
   "name": "python",
   "nbconvert_exporter": "python",
   "pygments_lexer": "ipython3",
   "version": "3.7.3"
  }
 },
 "nbformat": 4,
 "nbformat_minor": 2
}
